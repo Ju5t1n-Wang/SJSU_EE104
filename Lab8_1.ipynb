{
  "nbformat": 4,
  "nbformat_minor": 0,
  "metadata": {
    "colab": {
      "provenance": [],
      "collapsed_sections": [],
      "authorship_tag": "ABX9TyOX4ew2itYlW4DcnSXWAVie",
      "include_colab_link": true
    },
    "kernelspec": {
      "name": "python3",
      "display_name": "Python 3"
    },
    "language_info": {
      "name": "python"
    },
    "accelerator": "GPU"
  },
  "cells": [
    {
      "cell_type": "markdown",
      "metadata": {
        "id": "view-in-github",
        "colab_type": "text"
      },
      "source": [
        "<a href=\"https://colab.research.google.com/github/Ju5t1n-Wang/SJSU_EE104/blob/main/Lab8_1.ipynb\" target=\"_parent\"><img src=\"https://colab.research.google.com/assets/colab-badge.svg\" alt=\"Open In Colab\"/></a>"
      ]
    },
    {
      "cell_type": "code",
      "execution_count": null,
      "metadata": {
        "id": "-ykhc7fF6rBv"
      },
      "outputs": [],
      "source": [
        "import tensorflow as tf\n",
        "from keras.datasets import cifar10\n",
        "from tensorflow import keras\n",
        "from tensorflow.keras import datasets, layers, models\n",
        "from keras import regularizers\n",
        "import numpy as np\n",
        "import matplotlib.pyplot as plt\n",
        "\n",
        "from tensorflow.keras.optimizers import SGD"
      ]
    },
    {
      "cell_type": "code",
      "source": [
        "(train_images, train_labels), (test_images, test_labels) = datasets.cifar10.load_data()\n",
        "\n",
        "# Normalize pixel values to be between 0 and 1\n",
        "train_images, test_images = train_images / 255.0, test_images / 255.0"
      ],
      "metadata": {
        "id": "X5U7-_nq6v11",
        "colab": {
          "base_uri": "https://localhost:8080/"
        },
        "outputId": "420c4ff5-8787-4e4d-ca0d-37442ab8d3f9"
      },
      "execution_count": null,
      "outputs": [
        {
          "output_type": "stream",
          "name": "stdout",
          "text": [
            "Downloading data from https://www.cs.toronto.edu/~kriz/cifar-10-python.tar.gz\n",
            "170500096/170498071 [==============================] - 3s 0us/step\n",
            "170508288/170498071 [==============================] - 3s 0us/step\n"
          ]
        }
      ]
    },
    {
      "cell_type": "code",
      "source": [
        "data_augmentation = keras.Sequential(\n",
        "  [\n",
        "    layers.RandomFlip(\"horizontal\",\n",
        "                      input_shape=(32,\n",
        "                                  32,\n",
        "                                  3)),\n",
        "    layers.RandomRotation(0.1),\n",
        "    layers.RandomZoom(0.1),\n",
        "  ]\n",
        ")"
      ],
      "metadata": {
        "id": "b5iY5Asq6wA_"
      },
      "execution_count": null,
      "outputs": []
    },
    {
      "cell_type": "code",
      "source": [
        "weight_decay = 1e-4\n",
        "\n",
        "model = models.Sequential()\n",
        "model.add(layers.Conv2D(32, (3, 3), activation='relu', input_shape=(32, 32, 3), kernel_regularizer=regularizers.l2(weight_decay)))\n",
        "model.add(layers.BatchNormalization())\n",
        "model.add(layers.Conv2D(32, (3, 3), activation='relu', kernel_regularizer=regularizers.l2(weight_decay)))\n",
        "model.add(layers.BatchNormalization())\n",
        "model.add(layers.MaxPooling2D((2, 2)))\n",
        "model.add(layers.Dropout(0.2))\n",
        "\n",
        "model.add(layers.Conv2D(64, (3, 3), activation='relu', kernel_regularizer=regularizers.l2(weight_decay)))\n",
        "model.add(layers.BatchNormalization())\n",
        "model.add(layers.Conv2D(64, (3, 3), activation='relu', kernel_regularizer=regularizers.l2(weight_decay)))\n",
        "model.add(layers.BatchNormalization())\n",
        "model.add(layers.MaxPooling2D((2, 2)))\n",
        "model.add(layers.Dropout(0.3))\n",
        "\n",
        "model.add(layers.Conv2D(128, (3, 3), activation='relu', kernel_regularizer=regularizers.l2(weight_decay)))\n",
        "model.add(layers.BatchNormalization())\n",
        "model.add(layers.Conv2D(128, (3, 3), activation='relu', kernel_regularizer=regularizers.l2(weight_decay)))\n",
        "model.add(layers.BatchNormalization())\n",
        "model.add(layers.Dropout(0.4))\n",
        "\n",
        "model.add(layers.Flatten())\n",
        "model.add(layers.Dense(64, activation='relu'))\n",
        "model.add(layers.Dense(10))"
      ],
      "metadata": {
        "id": "u45iO3VZ6wFB"
      },
      "execution_count": null,
      "outputs": []
    },
    {
      "cell_type": "code",
      "source": [
        "model.compile('adam',\n",
        "              loss=tf.keras.losses.SparseCategoricalCrossentropy(from_logits=True),\n",
        "              metrics=['accuracy'])\n",
        "\n",
        "history = model.fit(train_images, train_labels, epochs=21,\n",
        "                    validation_data=(test_images, test_labels))"
      ],
      "metadata": {
        "colab": {
          "base_uri": "https://localhost:8080/"
        },
        "id": "bz4wEITK6wHW",
        "outputId": "30e4eb31-66a9-4e22-e214-3a0d4d1008e8"
      },
      "execution_count": null,
      "outputs": [
        {
          "output_type": "stream",
          "name": "stdout",
          "text": [
            "Epoch 1/21\n",
            "1563/1563 [==============================] - 34s 15ms/step - loss: 1.5595 - accuracy: 0.4538 - val_loss: 1.2283 - val_accuracy: 0.5729\n",
            "Epoch 2/21\n",
            "1563/1563 [==============================] - 21s 13ms/step - loss: 1.1618 - accuracy: 0.6075 - val_loss: 1.0462 - val_accuracy: 0.6538\n",
            "Epoch 3/21\n",
            "1563/1563 [==============================] - 21s 13ms/step - loss: 1.0148 - accuracy: 0.6729 - val_loss: 0.9900 - val_accuracy: 0.6844\n",
            "Epoch 4/21\n",
            "1563/1563 [==============================] - 21s 14ms/step - loss: 0.9393 - accuracy: 0.7090 - val_loss: 0.8478 - val_accuracy: 0.7454\n",
            "Epoch 5/21\n",
            "1563/1563 [==============================] - 21s 13ms/step - loss: 0.8915 - accuracy: 0.7299 - val_loss: 0.8666 - val_accuracy: 0.7371\n",
            "Epoch 6/21\n",
            "1563/1563 [==============================] - 21s 13ms/step - loss: 0.8608 - accuracy: 0.7487 - val_loss: 0.8033 - val_accuracy: 0.7680\n",
            "Epoch 7/21\n",
            "1563/1563 [==============================] - 21s 13ms/step - loss: 0.8417 - accuracy: 0.7604 - val_loss: 0.7891 - val_accuracy: 0.7783\n",
            "Epoch 8/21\n",
            "1563/1563 [==============================] - 21s 13ms/step - loss: 0.8242 - accuracy: 0.7715 - val_loss: 0.7981 - val_accuracy: 0.7801\n",
            "Epoch 9/21\n",
            "1563/1563 [==============================] - 20s 13ms/step - loss: 0.8096 - accuracy: 0.7780 - val_loss: 0.7994 - val_accuracy: 0.7854\n",
            "Epoch 10/21\n",
            "1563/1563 [==============================] - 20s 13ms/step - loss: 0.7925 - accuracy: 0.7863 - val_loss: 0.7860 - val_accuracy: 0.7888\n",
            "Epoch 11/21\n",
            "1563/1563 [==============================] - 21s 13ms/step - loss: 0.7802 - accuracy: 0.7935 - val_loss: 0.7707 - val_accuracy: 0.7982\n",
            "Epoch 12/21\n",
            "1563/1563 [==============================] - 23s 14ms/step - loss: 0.7737 - accuracy: 0.7995 - val_loss: 0.7889 - val_accuracy: 0.7978\n",
            "Epoch 13/21\n",
            "1563/1563 [==============================] - 22s 14ms/step - loss: 0.7685 - accuracy: 0.8034 - val_loss: 0.7940 - val_accuracy: 0.7959\n",
            "Epoch 14/21\n",
            "1563/1563 [==============================] - 22s 14ms/step - loss: 0.7587 - accuracy: 0.8083 - val_loss: 0.8119 - val_accuracy: 0.7929\n",
            "Epoch 15/21\n",
            "1563/1563 [==============================] - 23s 15ms/step - loss: 0.7556 - accuracy: 0.8085 - val_loss: 0.8151 - val_accuracy: 0.7920\n",
            "Epoch 16/21\n",
            "1563/1563 [==============================] - 24s 15ms/step - loss: 0.7503 - accuracy: 0.8126 - val_loss: 0.8380 - val_accuracy: 0.7893\n",
            "Epoch 17/21\n",
            "1563/1563 [==============================] - 23s 15ms/step - loss: 0.7429 - accuracy: 0.8148 - val_loss: 0.8185 - val_accuracy: 0.7956\n",
            "Epoch 18/21\n",
            "1563/1563 [==============================] - 24s 15ms/step - loss: 0.7332 - accuracy: 0.8203 - val_loss: 0.8338 - val_accuracy: 0.7911\n",
            "Epoch 19/21\n",
            "1563/1563 [==============================] - 24s 16ms/step - loss: 0.7318 - accuracy: 0.8237 - val_loss: 0.7630 - val_accuracy: 0.8159\n",
            "Epoch 20/21\n",
            "1563/1563 [==============================] - 23s 15ms/step - loss: 0.7276 - accuracy: 0.8244 - val_loss: 0.8152 - val_accuracy: 0.7966\n",
            "Epoch 21/21\n",
            "1563/1563 [==============================] - 24s 15ms/step - loss: 0.7227 - accuracy: 0.8276 - val_loss: 0.7702 - val_accuracy: 0.8115\n"
          ]
        }
      ]
    },
    {
      "cell_type": "code",
      "source": [
        "acc = history.history['accuracy']\n",
        "val_acc = history.history['val_accuracy']\n",
        "\n",
        "loss = history.history['loss']\n",
        "val_loss = history.history['val_loss']\n",
        "\n",
        "epochs_range = range(21)\n",
        "\n",
        "plt.figure(figsize=(8, 8))\n",
        "plt.subplot(1, 2, 1)\n",
        "plt.plot(epochs_range, acc, label='Training Accuracy')\n",
        "plt.plot(epochs_range, val_acc, label='Validation Accuracy')\n",
        "plt.legend(loc='lower right')\n",
        "plt.title('Training and Validation Accuracy')\n",
        "\n",
        "plt.subplot(1, 2, 2)\n",
        "plt.plot(epochs_range, loss, label='Training Loss')\n",
        "plt.plot(epochs_range, val_loss, label='Validation Loss')\n",
        "plt.legend(loc='upper right')\n",
        "plt.title('Training and Validation Loss')\n",
        "plt.show()"
      ],
      "metadata": {
        "colab": {
          "base_uri": "https://localhost:8080/",
          "height": 499
        },
        "id": "sQOBSqxK6wJc",
        "outputId": "ec8881d7-f3b3-4024-8990-36caf0ad9603"
      },
      "execution_count": null,
      "outputs": [
        {
          "output_type": "display_data",
          "data": {
            "text/plain": [
              "<Figure size 576x576 with 2 Axes>"
            ],
            "image/png": "[encoded data removed]"
          },
          "metadata": {
            "needs_background": "light"
          }
        }
      ]
    },
    {
      "cell_type": "code",
      "source": [
        "test_loss, test_acc = model.evaluate(test_images,  test_labels, verbose=2)"
      ],
      "metadata": {
        "colab": {
          "base_uri": "https://localhost:8080/"
        },
        "id": "agrxEyYlDXQC",
        "outputId": "bbcbe41a-459f-485d-9ab2-219bba7069e3"
      },
      "execution_count": null,
      "outputs": [
        {
          "output_type": "stream",
          "name": "stdout",
          "text": [
            "313/313 - 2s - loss: 0.7702 - accuracy: 0.8115 - 2s/epoch - 6ms/step\n"
          ]
        }
      ]
    }
  ]
}